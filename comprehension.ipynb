{
  "nbformat": 4,
  "nbformat_minor": 0,
  "metadata": {
    "colab": {
      "provenance": [],
      "authorship_tag": "ABX9TyNxaRLsUtGDLW4caD+MP186",
      "include_colab_link": true
    },
    "kernelspec": {
      "name": "python3",
      "display_name": "Python 3"
    },
    "language_info": {
      "name": "python"
    }
  },
  "cells": [
    {
      "cell_type": "markdown",
      "metadata": {
        "id": "view-in-github",
        "colab_type": "text"
      },
      "source": [
        "<a href=\"https://colab.research.google.com/github/Shasidharyadav/comprehension-/blob/main/comprehension.ipynb\" target=\"_parent\"><img src=\"https://colab.research.google.com/assets/colab-badge.svg\" alt=\"Open In Colab\"/></a>"
      ]
    },
    {
      "cell_type": "code",
      "execution_count": null,
      "metadata": {
        "id": "IM2bGt5dMAKn"
      },
      "outputs": [],
      "source": [
        "num = [1,2,3,4,5,6,7]\n",
        "new_nums =[n for n in num]\n",
        "print(new_nums)"
      ]
    },
    {
      "cell_type": "code",
      "source": [
        "num = [10,20,30,40,50]\n",
        "mul = [a*a for a in num]\n",
        "print(mul)"
      ],
      "metadata": {
        "id": "hR1g_VRuNAPq"
      },
      "execution_count": null,
      "outputs": []
    },
    {
      "cell_type": "code",
      "source": [
        "# maps+lambda\n",
        "nums = [2,5,8,9]\n",
        "m_list = list(map(lambda a:a*a,nums))\n",
        "print(m_list)"
      ],
      "metadata": {
        "colab": {
          "base_uri": "https://localhost:8080/"
        },
        "id": "pfpkcekvNB0M",
        "outputId": "c08af542-edcb-4c5f-e4a0-05bd394b082f"
      },
      "execution_count": 1,
      "outputs": [
        {
          "output_type": "stream",
          "name": "stdout",
          "text": [
            "[4, 25, 64, 81]\n"
          ]
        }
      ]
    },
    {
      "cell_type": "code",
      "source": [
        "# maps+lambda\n",
        "nums = [2,5,8,9]\n",
        "m_list = list(map(lambda a:a*a,nums))\n",
        "print(m_list)"
      ],
      "metadata": {
        "colab": {
          "base_uri": "https://localhost:8080/"
        },
        "id": "QVPjnjcRNCg1",
        "outputId": "fab3fd19-7a6a-460d-ede9-27a91a1ac74d"
      },
      "execution_count": 2,
      "outputs": [
        {
          "output_type": "stream",
          "name": "stdout",
          "text": [
            "[4, 25, 64, 81]\n"
          ]
        }
      ]
    },
    {
      "cell_type": "code",
      "source": [
        "my_list = [n for n in num if n%2 == 0]\n",
        "print(my_list)"
      ],
      "metadata": {
        "colab": {
          "base_uri": "https://localhost:8080/",
          "height": 158
        },
        "id": "d5UhRpqRNFUZ",
        "outputId": "29892d96-740c-4275-d134-a94f97a726ce"
      },
      "execution_count": 3,
      "outputs": [
        {
          "output_type": "error",
          "ename": "NameError",
          "evalue": "name 'num' is not defined",
          "traceback": [
            "\u001b[0;31m---------------------------------------------------------------------------\u001b[0m",
            "\u001b[0;31mNameError\u001b[0m                                 Traceback (most recent call last)",
            "\u001b[0;32m<ipython-input-3-395e15676799>\u001b[0m in \u001b[0;36m<cell line: 1>\u001b[0;34m()\u001b[0m\n\u001b[0;32m----> 1\u001b[0;31m \u001b[0mmy_list\u001b[0m \u001b[0;34m=\u001b[0m \u001b[0;34m[\u001b[0m\u001b[0mn\u001b[0m \u001b[0;32mfor\u001b[0m \u001b[0mn\u001b[0m \u001b[0;32min\u001b[0m \u001b[0mnum\u001b[0m \u001b[0;32mif\u001b[0m \u001b[0mn\u001b[0m\u001b[0;34m%\u001b[0m\u001b[0;36m2\u001b[0m \u001b[0;34m==\u001b[0m \u001b[0;36m0\u001b[0m\u001b[0;34m]\u001b[0m\u001b[0;34m\u001b[0m\u001b[0;34m\u001b[0m\u001b[0m\n\u001b[0m\u001b[1;32m      2\u001b[0m \u001b[0mprint\u001b[0m\u001b[0;34m(\u001b[0m\u001b[0mmy_list\u001b[0m\u001b[0;34m)\u001b[0m\u001b[0;34m\u001b[0m\u001b[0;34m\u001b[0m\u001b[0m\n",
            "\u001b[0;31mNameError\u001b[0m: name 'num' is not defined"
          ]
        }
      ]
    },
    {
      "cell_type": "code",
      "source": [
        "my_list = [(letter,num) for letter in \"abcd\" for num in range(5)]\n",
        "print(my_list)"
      ],
      "metadata": {
        "colab": {
          "base_uri": "https://localhost:8080/"
        },
        "id": "2O8mZIy3NKby",
        "outputId": "18147e57-2d56-461a-8594-74b4cb936bf4"
      },
      "execution_count": 5,
      "outputs": [
        {
          "output_type": "stream",
          "name": "stdout",
          "text": [
            "[('a', 0), ('a', 1), ('a', 2), ('a', 3), ('a', 4), ('b', 0), ('b', 1), ('b', 2), ('b', 3), ('b', 4), ('c', 0), ('c', 1), ('c', 2), ('c', 3), ('c', 4), ('d', 0), ('d', 1), ('d', 2), ('d', 3), ('d', 4)]\n"
          ]
        }
      ]
    },
    {
      "cell_type": "code",
      "source": [
        "name = ['A','B','C','D']\n",
        "num = ['a','b','c','d']\n",
        "a = print(list(zip(name,num)))\n"
      ],
      "metadata": {
        "colab": {
          "base_uri": "https://localhost:8080/"
        },
        "id": "Ul1B6-cNNPaC",
        "outputId": "0a8527bd-e7d3-44b2-d740-530052e5fbd6"
      },
      "execution_count": 6,
      "outputs": [
        {
          "output_type": "stream",
          "name": "stdout",
          "text": [
            "[('A', 'a'), ('B', 'b'), ('C', 'c'), ('D', 'd')]\n"
          ]
        }
      ]
    },
    {
      "cell_type": "code",
      "source": [
        "#set\n",
        "set = {1,2,3,3,4}\n",
        "sets = {n for n in set}\n",
        "print(sets)"
      ],
      "metadata": {
        "colab": {
          "base_uri": "https://localhost:8080/"
        },
        "id": "263ywUywNR6N",
        "outputId": "e04f06bf-3522-4da8-8871-9e651fc3c5a0"
      },
      "execution_count": 7,
      "outputs": [
        {
          "output_type": "stream",
          "name": "stdout",
          "text": [
            "{1, 2, 3, 4}\n"
          ]
        }
      ]
    },
    {
      "cell_type": "code",
      "source": [
        "#generator function\n",
        "gen = [1,5,8,6]\n",
        "my_gen = list((n*n for n in gen))"
      ],
      "metadata": {
        "id": "ZymA-V3wNT2s"
      },
      "execution_count": 8,
      "outputs": []
    },
    {
      "cell_type": "code",
      "source": [
        "for it in zip(lis1,lis2):\n",
        "  print(it)"
      ],
      "metadata": {
        "id": "J2lwQueqNZ1B"
      },
      "execution_count": null,
      "outputs": []
    }
  ]
}